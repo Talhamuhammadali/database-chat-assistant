{
 "cells": [
  {
   "cell_type": "markdown",
   "metadata": {},
   "source": [
    "Exploring all runnable functionalities langchain"
   ]
  },
  {
   "cell_type": "code",
   "execution_count": 58,
   "metadata": {},
   "outputs": [],
   "source": [
    "from langchain.schema.runnable import(\n",
    "    RunnableBranch,\n",
    "    RunnableLambda,\n",
    "    RunnableMap,\n",
    "    RunnablePassthrough\n",
    ")\n",
    "from langchain_core.prompts import ChatPromptTemplate\n",
    "from langchain.schema.runnable.passthrough import RunnableAssign\n",
    "from functools import partial\n",
    "from operator import itemgetter"
   ]
  },
  {
   "cell_type": "markdown",
   "metadata": {},
   "source": [
    "Runnable pass through maps the previous values to the next as it is usually used for branching\n"
   ]
  },
  {
   "cell_type": "code",
   "execution_count": 104,
   "metadata": {},
   "outputs": [
    {
     "name": "stdout",
     "output_type": "stream",
     "text": [
      "1:hello\n",
      "Check: hello\n"
     ]
    },
    {
     "data": {
      "text/plain": [
       "'hello'"
      ]
     },
     "execution_count": 104,
     "metadata": {},
     "output_type": "execute_result"
    }
   ],
   "source": [
    "# Pass through examples\n",
    "skip = RunnableLambda(lambda x: x)\n",
    "skip_alt  = RunnablePassthrough()\n",
    "# Runnable lambda to convert functions into chainnable components\n",
    "def add_preface(x, preface = \"\"):\n",
    "    if type(x) == str:\n",
    "        print(f\"{preface}{x}\")\n",
    "    else:\n",
    "        print(x)\n",
    "    return x\n",
    "preface_link= RunnableLambda(partial(add_preface, preface=\"1:\"))\n",
    "\n",
    "def Rpreface(preface=\"\"):\n",
    "    return RunnableLambda(partial(add_preface, preface=preface))\n",
    "\n",
    "chain = skip | preface_link | Rpreface(\"Check: \")\n",
    "chain.invoke(\"hello\")\n"
   ]
  },
  {
   "cell_type": "markdown",
   "metadata": {},
   "source": [
    "Prompt Templates as  strings initializers"
   ]
  },
  {
   "cell_type": "code",
   "execution_count": 53,
   "metadata": {},
   "outputs": [
    {
     "data": {
      "text/plain": [
       "ChatPromptValue(messages=[SystemMessage(content='system, this doesnt works'), HumanMessage(content='hi, this works')])"
      ]
     },
     "execution_count": 53,
     "metadata": {},
     "output_type": "execute_result"
    }
   ],
   "source": [
    "from langchain_core.prompts import ChatPromptTemplate\n",
    "\n",
    "prompt = ChatPromptTemplate.from_messages([\n",
    "        (\"system\", \"{test} this doesnt works\"),\n",
    "        (\"user\", \"{input}, this works\")\n",
    "    ]\n",
    ")\n",
    "chain2 = prompt\n",
    "chain2.invoke({\"test\": \"system,\", \"input\": \"hi\"})"
   ]
  },
  {
   "cell_type": "markdown",
   "metadata": {},
   "source": [
    "Multi-component chain"
   ]
  },
  {
   "cell_type": "code",
   "execution_count": 111,
   "metadata": {},
   "outputs": [
    {
     "name": "stdout",
     "output_type": "stream",
     "text": [
      "<class 'str'> input\n",
      "step 1: testing basic multi chain\n",
      "step 2: testing\n",
      "step 3: TESTING\n"
     ]
    },
    {
     "data": {
      "text/plain": [
       "'TESTING'"
      ]
     },
     "execution_count": 111,
     "metadata": {},
     "output_type": "execute_result"
    }
   ],
   "source": [
    "def creat_dict(v, key):\n",
    "    print(type(v), key)\n",
    "    if isinstance(v, dict):\n",
    "        return v\n",
    "    return {key: v}\n",
    "\n",
    "def RInput(key=\"input\"):\n",
    "    return RunnableLambda(partial(creat_dict, key=key))\n",
    "\n",
    "def ROutput(key=\"output\"):\n",
    "    return RunnableLambda(partial(creat_dict, key=key))\n",
    "\n",
    "multi_link_chain1 = (\n",
    "    # passing input as a word or dict, word converts to dict\n",
    "    RInput()  \n",
    "    | skip_alt # pass through\n",
    "    | itemgetter(\"input\") # extracting string, from dict, with key input  \n",
    "    | Rpreface(\"step 1: \") # printing with prefix step\n",
    "    # extracting each word\n",
    "    | {\n",
    "        \"word1\": (lambda x: x.split()[0]),\n",
    "        \"word2\": (lambda x: x.split()[1]),\n",
    "        \"word3\": (lambda x: x.split()[2]),\n",
    "        \"complete\": (lambda x:x)     \n",
    "    }\n",
    "    #extracting word by key\n",
    "    | itemgetter(\"word1\")\n",
    "    | Rpreface(\"step 2: \")\n",
    "    # capitalizing the word\n",
    "    | (lambda x: x.upper())\n",
    "    | Rpreface(\"step 3: \")         \n",
    ")\n",
    "multi_link_chain1.invoke({\"input\": \"testing basic multi chain\"})\n",
    "multi_link_chain1.invoke(\"testing basic multi chain\")\n",
    "\n"
   ]
  },
  {
   "cell_type": "code",
   "execution_count": 112,
   "metadata": {},
   "outputs": [
    {
     "name": "stdout",
     "output_type": "stream",
     "text": [
      "{'input': 'Hello World'}\n",
      "<class 'dict'> input\n",
      "{'input': 'Hello World'}\n",
      "C: Hello World\n",
      "{'word1': 'Hello', 'word2': 'World', 'words': 'Hello World'}\n",
      "E: Hello\n",
      "F: HELLO\n",
      "<class 'str'> output\n"
     ]
    },
    {
     "data": {
      "text/plain": [
       "{'output': 'HELLO'}"
      ]
     },
     "execution_count": 112,
     "metadata": {},
     "output_type": "execute_result"
    }
   ],
   "source": [
    "multi_link_chain2 = (\n",
    "    Rpreface(\"A: \")\n",
    "    ## Custom ensure-dictionary process\n",
    "    | RInput()\n",
    "    | Rpreface(\"B: \")\n",
    "    ## Pull-values-from-dictionary utility\n",
    "    | itemgetter(\"input\")\n",
    "    | Rpreface(\"C: \")\n",
    "    ## Anything-in Dictionary-out implicit map\n",
    "    | {\n",
    "        'word1' : (lambda x : x.split()[0]),\n",
    "        'word2' : (lambda x : x.split()[1]),\n",
    "        'words' : (lambda x: x),  ## <- == to RunnablePassthrough()\n",
    "    }\n",
    "    | Rpreface(\"D: \")\n",
    "    | itemgetter(\"word1\")\n",
    "    | Rpreface(\"E: \")\n",
    "    ## Anything-in anything-out lambda application\n",
    "    | RunnableLambda(lambda x: x.upper())\n",
    "    | Rpreface(\"F: \")\n",
    "    ## Custom ensure-dictionary process\n",
    "    | ROutput()\n",
    ")\n",
    "\n",
    "multi_link_chain2.invoke({\"input\" : \"Hello World\"})"
   ]
  },
  {
   "cell_type": "markdown",
   "metadata": {},
   "source": []
  }
 ],
 "metadata": {
  "kernelspec": {
   "display_name": "venv",
   "language": "python",
   "name": "python3"
  },
  "language_info": {
   "codemirror_mode": {
    "name": "ipython",
    "version": 3
   },
   "file_extension": ".py",
   "mimetype": "text/x-python",
   "name": "python",
   "nbconvert_exporter": "python",
   "pygments_lexer": "ipython3",
   "version": "3.10.12"
  }
 },
 "nbformat": 4,
 "nbformat_minor": 2
}
