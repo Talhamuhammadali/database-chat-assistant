{
 "cells": [
  {
   "cell_type": "markdown",
   "metadata": {},
   "source": [
    "Exploring all runnable functionalities langchain"
   ]
  },
  {
   "cell_type": "code",
   "execution_count": 24,
   "metadata": {},
   "outputs": [],
   "source": [
    "from langchain.schema.runnable import(\n",
    "    RunnableBranch,\n",
    "    RunnableLambda,\n",
    "    RunnableMap,\n",
    "    RunnablePassthrough\n",
    ")\n",
    "from langchain_core.prompts import ChatPromptTemplate\n",
    "from langchain.schema.runnable.passthrough import RunnableAssign\n",
    "from functools import partial"
   ]
  },
  {
   "cell_type": "markdown",
   "metadata": {},
   "source": [
    "Runnable pass through maps the previous values to the next as it is usually used for branching\n"
   ]
  },
  {
   "cell_type": "code",
   "execution_count": null,
   "metadata": {},
   "outputs": [],
   "source": [
    "# Pass through examples\n",
    "skip = RunnableLambda(lambda x: x)\n",
    "skip_alt  = RunnablePassthrough\n",
    "# Runnable lambda to convert functions into chainnable components\n",
    "def add_preface(x, preface = \"\"):\n",
    "    if type(x) == str:\n",
    "        x = preface + x\n",
    "    print(x)\n",
    "    return x\n",
    "def Rpreface(preface=\"\"):\n",
    "    return RunnableLambda(partial(add_preface, preface=preface))\n",
    "\n",
    "chain = skip| Rpreface\n",
    "chain.invoke()\n"
   ]
  }
 ],
 "metadata": {
  "kernelspec": {
   "display_name": "venv",
   "language": "python",
   "name": "python3"
  },
  "language_info": {
   "codemirror_mode": {
    "name": "ipython",
    "version": 3
   },
   "file_extension": ".py",
   "mimetype": "text/x-python",
   "name": "python",
   "nbconvert_exporter": "python",
   "pygments_lexer": "ipython3",
   "version": "3.10.12"
  }
 },
 "nbformat": 4,
 "nbformat_minor": 2
}
